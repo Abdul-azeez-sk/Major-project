{
 "cells": [
  {
   "cell_type": "code",
   "execution_count": 1,
   "id": "a0f39a32-5c67-4b43-8746-502c600be141",
   "metadata": {},
   "outputs": [],
   "source": [
    "import pickle\n",
    "import numpy as np"
   ]
  },
  {
   "cell_type": "code",
   "execution_count": 2,
   "id": "fe26395e-7eea-47c9-9eca-732d024d0148",
   "metadata": {},
   "outputs": [],
   "source": [
    "pipe = pickle.load(open('pipe.pkl','rb'))\n"
   ]
  },
  {
   "cell_type": "code",
   "execution_count": 20,
   "id": "57dd70dd-cac5-478c-8b1d-31a968942c1a",
   "metadata": {},
   "outputs": [
    {
     "name": "stdout",
     "output_type": "stream",
     "text": [
      "Predicted Price: 1464.4311476436965\n"
     ]
    }
   ],
   "source": [
    "import pandas as pd\n",
    "import numpy as np\n",
    "\n",
    "\n",
    "test_input2 = np.array([\n",
    "    'Hyderabad', 'Mahabubmansion', 'Tomato', 'Common',\n",
    "    0, 0, 1500, 12, 3, 2021, 8, 0, 'Summer'\n",
    "], dtype=object).reshape(1, -1)\n",
    "\n",
    "test_input2_df = pd.DataFrame(\n",
    "    test_input2,\n",
    "    columns=['AmcName', 'YardName', 'CommName', 'VarityName', 'Arrivals', 'Minimum', 'Maximum',\n",
    "             'Day', 'Month', 'Year', 'Weekday', 'Is_Weekend', 'Season']\n",
    ")\n",
    "\n",
    "# Now use the pipeline to predict\n",
    "prediction = pipe.predict(test_input2_df)\n",
    "print(\"Predicted Price:\", prediction[0])\n"
   ]
  },
  {
   "cell_type": "code",
   "execution_count": null,
   "id": "fad83f81-30ae-4c9b-b8d0-5bdcaa9347e4",
   "metadata": {},
   "outputs": [],
   "source": []
  },
  {
   "cell_type": "code",
   "execution_count": null,
   "id": "b18c7006-b7f5-4cc2-8205-878a15e2df2a",
   "metadata": {},
   "outputs": [],
   "source": []
  }
 ],
 "metadata": {
  "kernelspec": {
   "display_name": "Python 3 (ipykernel)",
   "language": "python",
   "name": "python3"
  },
  "language_info": {
   "codemirror_mode": {
    "name": "ipython",
    "version": 3
   },
   "file_extension": ".py",
   "mimetype": "text/x-python",
   "name": "python",
   "nbconvert_exporter": "python",
   "pygments_lexer": "ipython3",
   "version": "3.13.0"
  }
 },
 "nbformat": 4,
 "nbformat_minor": 5
}
