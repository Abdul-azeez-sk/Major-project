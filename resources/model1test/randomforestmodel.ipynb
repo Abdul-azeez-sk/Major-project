{
 "cells": [
  {
   "cell_type": "code",
   "execution_count": 1,
   "id": "73ff1a74-e655-4f47-afff-9a589bec2ca9",
   "metadata": {},
   "outputs": [],
   "source": [
    "import numpy as np\n",
    "import pandas as pd"
   ]
  },
  {
   "cell_type": "code",
   "execution_count": 4,
   "id": "b651ac29-ffa7-46fd-8351-1009b10b6df4",
   "metadata": {},
   "outputs": [],
   "source": [
    "df = pd.read_excel('2024_2021_tomato_modal_data.xlsx')"
   ]
  },
  {
   "cell_type": "code",
   "execution_count": 5,
   "id": "27454681-1fdd-4c95-bacd-4f114e7f2422",
   "metadata": {},
   "outputs": [
    {
     "data": {
      "text/html": [
       "<div>\n",
       "<style scoped>\n",
       "    .dataframe tbody tr th:only-of-type {\n",
       "        vertical-align: middle;\n",
       "    }\n",
       "\n",
       "    .dataframe tbody tr th {\n",
       "        vertical-align: top;\n",
       "    }\n",
       "\n",
       "    .dataframe thead th {\n",
       "        text-align: right;\n",
       "    }\n",
       "</style>\n",
       "<table border=\"1\" class=\"dataframe\">\n",
       "  <thead>\n",
       "    <tr style=\"text-align: right;\">\n",
       "      <th></th>\n",
       "      <th>DDate</th>\n",
       "      <th>VarityName</th>\n",
       "      <th>CommName</th>\n",
       "      <th>AvgModel</th>\n",
       "    </tr>\n",
       "  </thead>\n",
       "  <tbody>\n",
       "    <tr>\n",
       "      <th>0</th>\n",
       "      <td>2021-01-01</td>\n",
       "      <td>Common</td>\n",
       "      <td>Tomato</td>\n",
       "      <td>650.0</td>\n",
       "    </tr>\n",
       "    <tr>\n",
       "      <th>1</th>\n",
       "      <td>2021-01-02</td>\n",
       "      <td>Common</td>\n",
       "      <td>Tomato</td>\n",
       "      <td>900.0</td>\n",
       "    </tr>\n",
       "    <tr>\n",
       "      <th>2</th>\n",
       "      <td>2021-01-03</td>\n",
       "      <td>Common</td>\n",
       "      <td>Tomato</td>\n",
       "      <td>750.0</td>\n",
       "    </tr>\n",
       "    <tr>\n",
       "      <th>3</th>\n",
       "      <td>2021-01-04</td>\n",
       "      <td>Common</td>\n",
       "      <td>Tomato</td>\n",
       "      <td>600.0</td>\n",
       "    </tr>\n",
       "    <tr>\n",
       "      <th>4</th>\n",
       "      <td>2021-01-05</td>\n",
       "      <td>Common</td>\n",
       "      <td>Tomato</td>\n",
       "      <td>650.0</td>\n",
       "    </tr>\n",
       "    <tr>\n",
       "      <th>...</th>\n",
       "      <td>...</td>\n",
       "      <td>...</td>\n",
       "      <td>...</td>\n",
       "      <td>...</td>\n",
       "    </tr>\n",
       "    <tr>\n",
       "      <th>1420</th>\n",
       "      <td>2024-11-26</td>\n",
       "      <td>Common</td>\n",
       "      <td>Tomato</td>\n",
       "      <td>2900.0</td>\n",
       "    </tr>\n",
       "    <tr>\n",
       "      <th>1421</th>\n",
       "      <td>2024-11-27</td>\n",
       "      <td>Common</td>\n",
       "      <td>Tomato</td>\n",
       "      <td>2750.0</td>\n",
       "    </tr>\n",
       "    <tr>\n",
       "      <th>1422</th>\n",
       "      <td>2024-11-28</td>\n",
       "      <td>Common</td>\n",
       "      <td>Tomato</td>\n",
       "      <td>2775.0</td>\n",
       "    </tr>\n",
       "    <tr>\n",
       "      <th>1423</th>\n",
       "      <td>2024-11-29</td>\n",
       "      <td>Common</td>\n",
       "      <td>Tomato</td>\n",
       "      <td>2600.0</td>\n",
       "    </tr>\n",
       "    <tr>\n",
       "      <th>1424</th>\n",
       "      <td>2024-11-30</td>\n",
       "      <td>Common</td>\n",
       "      <td>Tomato</td>\n",
       "      <td>2900.0</td>\n",
       "    </tr>\n",
       "  </tbody>\n",
       "</table>\n",
       "<p>1425 rows × 4 columns</p>\n",
       "</div>"
      ],
      "text/plain": [
       "          DDate VarityName CommName  AvgModel\n",
       "0    2021-01-01     Common   Tomato     650.0\n",
       "1    2021-01-02     Common   Tomato     900.0\n",
       "2    2021-01-03     Common   Tomato     750.0\n",
       "3    2021-01-04     Common   Tomato     600.0\n",
       "4    2021-01-05     Common   Tomato     650.0\n",
       "...         ...        ...      ...       ...\n",
       "1420 2024-11-26     Common   Tomato    2900.0\n",
       "1421 2024-11-27     Common   Tomato    2750.0\n",
       "1422 2024-11-28     Common   Tomato    2775.0\n",
       "1423 2024-11-29     Common   Tomato    2600.0\n",
       "1424 2024-11-30     Common   Tomato    2900.0\n",
       "\n",
       "[1425 rows x 4 columns]"
      ]
     },
     "execution_count": 5,
     "metadata": {},
     "output_type": "execute_result"
    }
   ],
   "source": [
    "df"
   ]
  },
  {
   "cell_type": "code",
   "execution_count": 6,
   "id": "5ffbcb3b-5f79-47a2-81f1-caae7bb5ff7f",
   "metadata": {},
   "outputs": [],
   "source": [
    "import pandas as pd\n",
    "from sklearn.model_selection import train_test_split\n",
    "from sklearn.pipeline import Pipeline\n",
    "from sklearn.compose import ColumnTransformer\n",
    "from sklearn.preprocessing import OneHotEncoder, FunctionTransformer\n",
    "from sklearn.ensemble import RandomForestRegressor\n",
    "from sklearn.metrics import mean_squared_error\n",
    "import numpy as np\n"
   ]
  },
  {
   "cell_type": "code",
   "execution_count": 7,
   "id": "fe8f387a-5d5d-4c67-a901-ed9b2c677e18",
   "metadata": {},
   "outputs": [],
   "source": [
    "# Assuming df is your DataFrame\n",
    "df['DDate'] = pd.to_datetime(df['DDate'])\n",
    "\n",
    "# Extract features from date\n",
    "df['year'] = df['DDate'].dt.year\n",
    "df['month'] = df['DDate'].dt.month\n",
    "df['day'] = df['DDate'].dt.day\n",
    "\n",
    "# Drop the original date column\n",
    "df = df.drop(columns=['DDate'])\n",
    "\n",
    "# Split features and target\n",
    "X = df.drop(columns=['AvgModel'])\n",
    "y = df['AvgModel']\n"
   ]
  },
  {
   "cell_type": "code",
   "execution_count": 8,
   "id": "e5a661c5-3f41-4288-8890-8cf982e82c90",
   "metadata": {},
   "outputs": [],
   "source": [
    "# Categorical and numerical columns\n",
    "categorical_cols = ['VarityName', 'CommName']\n",
    "numerical_cols = ['year', 'month', 'day']\n",
    "\n",
    "# ColumnTransformer for preprocessing\n",
    "preprocessor = ColumnTransformer(transformers=[\n",
    "    ('cat', OneHotEncoder(handle_unknown='ignore'), categorical_cols),\n",
    "], remainder='passthrough')  # passthrough will keep numerical columns\n"
   ]
  },
  {
   "cell_type": "code",
   "execution_count": 9,
   "id": "dd360925-0e51-446d-9790-61c38a1a6f66",
   "metadata": {},
   "outputs": [],
   "source": [
    "pipeline = Pipeline(steps=[\n",
    "    ('preprocessor', preprocessor),\n",
    "    ('model', RandomForestRegressor(n_estimators=100, random_state=42))\n",
    "])\n"
   ]
  },
  {
   "cell_type": "code",
   "execution_count": 10,
   "id": "50565465-4650-423b-b2dd-8f11e43cacb1",
   "metadata": {},
   "outputs": [
    {
     "name": "stdout",
     "output_type": "stream",
     "text": [
      "Mean Squared Error: 251162.01\n"
     ]
    }
   ],
   "source": [
    "X_train, X_test, y_train, y_test = train_test_split(X, y, test_size=0.2, random_state=42)\n",
    "\n",
    "pipeline.fit(X_train, y_train)\n",
    "\n",
    "# Predict and evaluate\n",
    "y_pred = pipeline.predict(X_test)\n",
    "mse = mean_squared_error(y_test, y_pred)\n",
    "print(f'Mean Squared Error: {mse:.2f}')\n"
   ]
  },
  {
   "cell_type": "code",
   "execution_count": null,
   "id": "b33e85a4-d1e0-486a-b76e-16453e1d6d62",
   "metadata": {},
   "outputs": [],
   "source": []
  }
 ],
 "metadata": {
  "kernelspec": {
   "display_name": "Python 3 (ipykernel)",
   "language": "python",
   "name": "python3"
  },
  "language_info": {
   "codemirror_mode": {
    "name": "ipython",
    "version": 3
   },
   "file_extension": ".py",
   "mimetype": "text/x-python",
   "name": "python",
   "nbconvert_exporter": "python",
   "pygments_lexer": "ipython3",
   "version": "3.13.0"
  }
 },
 "nbformat": 4,
 "nbformat_minor": 5
}
