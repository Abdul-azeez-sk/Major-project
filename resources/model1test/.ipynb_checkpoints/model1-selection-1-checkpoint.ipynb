{
 "cells": [
  {
   "cell_type": "code",
   "execution_count": 1,
   "id": "e57632ed-dae4-46d8-b398-33d159d24f6a",
   "metadata": {},
   "outputs": [],
   "source": [
    "import numpy as np \n",
    "import pandas as pd\n",
    "\n",
    "df=pd.read_csv('./final_dataset.csv')"
   ]
  },
  {
   "cell_type": "code",
   "execution_count": 2,
   "id": "c219d77b-0628-4b40-b901-4778d4fc9d8b",
   "metadata": {},
   "outputs": [
    {
     "name": "stdout",
     "output_type": "stream",
     "text": [
      "<class 'pandas.core.frame.DataFrame'>\n",
      "RangeIndex: 711341 entries, 0 to 711340\n",
      "Data columns (total 20 columns):\n",
      " #   Column          Non-Null Count   Dtype  \n",
      "---  ------          --------------   -----  \n",
      " 0   AmcName         711341 non-null  int64  \n",
      " 1   YardName        711341 non-null  int64  \n",
      " 2   CommName        711341 non-null  int64  \n",
      " 3   VarityName      711341 non-null  int64  \n",
      " 4   Arrivals        711341 non-null  float64\n",
      " 5   Minimum         711341 non-null  float64\n",
      " 6   Maximum         711341 non-null  float64\n",
      " 7   Model           711341 non-null  float64\n",
      " 8   Year            711341 non-null  int64  \n",
      " 9   Month           711341 non-null  int64  \n",
      " 10  DayOfWeek       711341 non-null  int64  \n",
      " 11  WeekOfYear      711341 non-null  int64  \n",
      " 12  IsRabiSeason    711341 non-null  int64  \n",
      " 13  IsKharifSeason  711341 non-null  int64  \n",
      " 14  PriceSpread     711341 non-null  float64\n",
      " 15  Volatility      711341 non-null  float64\n",
      " 16  LogArrivals     711341 non-null  float64\n",
      " 17  Quarter         711341 non-null  int64  \n",
      " 18  IsSummer        711341 non-null  int64  \n",
      " 19  IsWinter        711341 non-null  int64  \n",
      "dtypes: float64(7), int64(13)\n",
      "memory usage: 108.5 MB\n"
     ]
    }
   ],
   "source": [
    "df.info()"
   ]
  },
  {
   "cell_type": "code",
   "execution_count": 3,
   "id": "dc5d8ee4-f25f-48a2-947b-e4e1438102a5",
   "metadata": {},
   "outputs": [],
   "source": [
    "target = 'Model'\n"
   ]
  },
  {
   "cell_type": "code",
   "execution_count": 4,
   "id": "9a7d41ee-f89d-4a8a-a216-fab4ca8879ef",
   "metadata": {},
   "outputs": [],
   "source": [
    "X = df.drop(columns=[target])\n",
    "y = df[target]\n"
   ]
  },
  {
   "cell_type": "code",
   "execution_count": null,
   "id": "1342eb60-51ae-4db3-81e0-86b6c8a41986",
   "metadata": {},
   "outputs": [],
   "source": []
  }
 ],
 "metadata": {
  "kernelspec": {
   "display_name": "Python 3 (ipykernel)",
   "language": "python",
   "name": "python3"
  },
  "language_info": {
   "codemirror_mode": {
    "name": "ipython",
    "version": 3
   },
   "file_extension": ".py",
   "mimetype": "text/x-python",
   "name": "python",
   "nbconvert_exporter": "python",
   "pygments_lexer": "ipython3",
   "version": "3.13.0"
  }
 },
 "nbformat": 4,
 "nbformat_minor": 5
}
